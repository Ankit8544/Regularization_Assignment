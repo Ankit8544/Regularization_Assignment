{
 "cells": [
  {
   "cell_type": "markdown",
   "metadata": {},
   "source": [
    "### **Part 1: Understanding Regularization**\n",
    "\n",
    "1. **What is regularization in the context of deep learning? Why is it important?**\n",
    "\n",
    "2. **Explain the bias-variance tradeoff and how regularization helps in addressing this tradeoff.**\n",
    "\n",
    "3. **Describe the concept of LI and L2 regularization. How do they differ in terms of penalty calculation and their effects on the model?**\n",
    "\n",
    "4. **Discuss the role of regularization in preventing overfitting and improving the generalization of deep learning models.**"
   ]
  },
  {
   "cell_type": "markdown",
   "metadata": {},
   "source": [
    "**Ans :-**"
   ]
  },
  {
   "cell_type": "markdown",
   "metadata": {},
   "source": [
    "1. **Regularization** in deep learning refers to techniques used to reduce the complexity of a model, thereby preventing overfitting. Overfitting occurs when a model performs well on training data but poorly on unseen data because it has learned to capture noise and specific patterns that do not generalize. Regularization techniques add a penalty or constraint to the model's parameters, encouraging simpler models that generalize better.\n",
    "\n",
    "   -  **Importance :**\n",
    "        \n",
    "      - **Prevents Overfitting -** By penalizing large weights, regularization reduces the model's tendency to fit noise in the training data.\n",
    "        \n",
    "      - **Improves Generalization -** Regularization helps the model perform well on unseen data, enhancing its predictive capabilities across different datasets.\n",
    "        \n",
    "      - **Controls Model Complexity -** It allows the creation of models that are complex enough to learn from data but not so complex that they capture irrelevant details.\n",
    "\n",
    "2. The **bias-variance tradeoff** is a fundamental concept in machine learning that describes the relationship between the model's complexity and its performance on training versus test data :\n",
    "\n",
    "    - **Bias -** Error due to overly simplistic assumptions in the learning algorithm. High bias leads to underfitting, where the model is too simple to capture the underlying patterns in the data.\n",
    "    - **Variance -** Error due to the model's sensitivity to small fluctuations in the training data. High variance leads to overfitting, where the model captures noise as if it were a true signal.\n",
    "\n",
    "    **Tradeoff :**\n",
    "\n",
    "    - **High Bias, Low Variance -** The model is too simple (e.g., linear models for non-linear data) and underfits the data.\n",
    "\n",
    "    - **Low Bias, High Variance -** The model is too complex (e.g., high-degree polynomial regression) and overfits the data.\n",
    "\n",
    "    **Role of Regularization :**\n",
    "\n",
    "    - **Balancing Complexity -** Regularization introduces a penalty for complexity (e.g., large weights in a neural network), which can reduce variance by discouraging the model from fitting noise, while potentially increasing bias slightly. This helps find a middle ground where both bias and variance are minimized, leading to a model that generalizes well.\n",
    "\n",
    "3. **L1 Regularization (Lasso) :**\n",
    "\n",
    "    - **Penalty Calculation -** The penalty is the sum of the absolute values of the weights: $ \\text{L1 penalty} = \\lambda \\sum |w_i| $, where $ \\lambda $ is the regularization strength.\n",
    "\n",
    "    - **Effect on Model -** L1 regularization tends to produce sparse models, meaning that it drives some weights to exactly zero, effectively performing feature selection. This can simplify the model and make it more interpretable.\n",
    "\n",
    "    **L2 Regularization (Ridge) :**\n",
    "\n",
    "    - **Penalty Calculation -** The penalty is the sum of the squared values of the weights: \\( \\text{L2 penalty} = \\lambda \\sum w_i^2 \\).\n",
    "\n",
    "    - **Effect on Model -** L2 regularization encourages small but non-zero weights, distributing the penalty more evenly across the parameters. This typically results in a model where all features are used, but the impact of each feature is regularized, reducing the model's overall complexity.\n",
    "\n",
    "    **Key Differences :**\n",
    "\n",
    "    - **L1 Regularization -** Encourages sparsity, leading to models that may ignore some features entirely.\n",
    "\n",
    "    - **L2 Regularization -** Tends to shrink weights towards zero but does not make them exactly zero, leading to models where all features contribute to the prediction, albeit with reduced influence.\n",
    "\n",
    "4. **Preventing Overfitting :**\n",
    "    \n",
    "    - **Constrain the Model -** Regularization methods like L1 and L2 impose penalties on the weights of the model, making it less likely to develop complex, overfit solutions that perform well on training data but poorly on new, unseen data.\n",
    "    \n",
    "    - **Simplifying the Model -** By penalizing large weights, regularization forces the model to focus on the most important features rather than capturing noise, which reduces the risk of overfitting.\n",
    "\n",
    "    **Improving Generalization :**\n",
    "\n",
    "    - **Generalizable Patterns -** Regularization helps the model focus on capturing the underlying patterns in the data that are likely to hold in other datasets rather than fitting the idiosyncrasies of the training set.\n",
    "    \n",
    "    - **Better Performance on Unseen Data -** A regularized model is typically more robust and performs better on test or validation data, indicating improved generalization to new data.\n",
    "\n",
    "`In summary`, regularization is a crucial technique in deep learning that helps strike a balance between model complexity and generalization, ensuring that models not only fit the training data but also perform well on unseen data, thereby improving overall performance and reliability."
   ]
  },
  {
   "cell_type": "markdown",
   "metadata": {},
   "source": [
    "------------------------------------------------------------------------------------------------------------------------------------------------------------------------------"
   ]
  },
  {
   "cell_type": "markdown",
   "metadata": {},
   "source": [
    "### **Part 2: Regularization Techniques**\n",
    "\n",
    "5. **Explain Dropout regularization and how it works to reduce overfitting. Discuss the impact of Dropout on model training and inference.**\n",
    "\n",
    "6. **Describe the concept of Early Stopping as a form of regularization. How does it help prevent overfitting during the training process?**\n",
    "7. **Explain the concept of Batch Normalization and its role as a form of regularization. How does Batch Normalization help in preventing overfitting?**"
   ]
  },
  {
   "cell_type": "markdown",
   "metadata": {},
   "source": [
    "**Ans :-**"
   ]
  },
  {
   "cell_type": "markdown",
   "metadata": {},
   "source": [
    "5. **Dropout regularization** is a technique used in deep learning to prevent overfitting by randomly \"dropping out\" (i.e., setting to zero) a fraction of neurons during training. This forces the network to not rely on specific neurons and encourages it to learn more robust and distributed representations.\n",
    "\n",
    "    **How Dropout Works :**\n",
    "\n",
    "    - During each training iteration, Dropout randomly selects a subset of neurons in a layer and temporarily drops them from the network (i.e., they are not used for both forward and backward propagation).\n",
    "\n",
    "    - The dropout rate (e.g., 0.2, 0.5) indicates the percentage of neurons that will be dropped in each iteration. For example, a dropout rate of 0.5 means that half of the neurons are deactivated randomly during each training step.\n",
    "\n",
    "    **Impact on Model Training :**\n",
    "\n",
    "    - **Reduces Overfitting -** By randomly removing neurons, Dropout prevents the network from becoming too dependent on specific neurons. This encourages the remaining neurons to learn more generalized features rather than memorizing the training data.\n",
    "\n",
    "    - **Forces Redundancy -** Each neuron learns to be more independent and less reliant on other neurons, which leads to a more resilient network. The model becomes less prone to overfitting as it does not focus too narrowly on specific patterns in the data.\n",
    "\n",
    "    **Impact on Model Inference :**\n",
    "\n",
    "    - During inference (testing or prediction), Dropout is not applied. Instead, all neurons are used, but their weights are scaled by the dropout rate to account for the training process. This adjustment ensures that the model's output remains consistent despite the randomness introduced during training.\n",
    "\n",
    "6. **Early Stopping** is a simple and effective regularization technique used to prevent overfitting by halting the training process when the model's performance on a validation set starts to deteriorate.\n",
    "\n",
    "    **How Early Stopping Works :**\n",
    "\n",
    "    - During training, the model's performance is monitored on both the training set and a separate validation set.\n",
    "    \n",
    "    - If the model's performance (e.g., validation accuracy or loss) improves for a while and then starts to worsen, it indicates that the model is beginning to overfit to the training data.\n",
    "    \n",
    "    - Early stopping halts training once the validation performance stops improving for a predefined number of epochs (called patience), thus preventing the model from learning noise in the training data.\n",
    "\n",
    "    **Benefits of Early Stopping :**\n",
    "    \n",
    "    - **Prevents Overfitting -** By stopping training when the validation performance worsens, early stopping ensures that the model does not continue to adjust its parameters in ways that overfit the training data.\n",
    "    \n",
    "    - **Saves Resources -** Early stopping helps save computation time and resources, as it avoids unnecessary further training once the optimal point of generalization has been reached.\n",
    "    \n",
    "    - **Model Selection -** The best model (i.e., the one with the lowest validation error) can be selected and used, ensuring better generalization to unseen data.\n",
    "\n",
    "7. **Batch Normalization (BatchNorm)** is a technique that normalizes the input of each layer by adjusting and scaling the activations in mini-batches of data. It improves training efficiency, stability, and can also serve as a form of regularization.\n",
    "\n",
    "    **How Batch Normalization Works :**\n",
    "\n",
    "    - During training, for each mini-batch, BatchNorm normalizes the activations (output) of a layer by subtracting the batch mean and dividing by the batch standard deviation.\n",
    "\n",
    "    - The normalized values are then scaled and shifted using learnable parameters, allowing the network to retain the flexibility of the original model while stabilizing the training process.\n",
    "\n",
    "    **Role of Batch Normalization as Regularization :**\n",
    "\n",
    "    - **Smoothes Learning -** BatchNorm reduces the internal covariate shift, which is the change in the distribution of layer inputs during training. This helps the model learn faster and makes the training process less sensitive to initialization and learning rates.\n",
    "\n",
    "    - **Reduces Overfitting -** The mini-batch-based normalization introduces slight noise into the training process because the mean and variance are calculated per batch rather than globally. This noise acts as a form of regularization, similar to how Dropout introduces randomness, reducing the reliance on specific neurons and preventing overfitting.\n",
    "\n",
    "    - **Reduces Dependence on Dropout -** In some cases, BatchNorm can reduce the need for Dropout because it introduces regularization effects through the normalization process.\n",
    "\n",
    "    **How Batch Normalization Helps Prevent Overfitting :**\n",
    "\n",
    "    - **Stabilizes Activations -** By maintaining normalized activations, BatchNorm prevents neurons from saturating or producing very large values, which can lead to overfitting.\n",
    "\n",
    "    - **Improved Generalization -** BatchNorm makes the learning process smoother and more stable, allowing the model to generalize better to unseen data, reducing overfitting even without explicitly relying on regularization methods like L2 or Dropout.\n",
    "\n",
    "`In summary`, Dropout, Early Stopping, and Batch Normalization are key regularization techniques that address overfitting from different angles: Dropout by introducing randomness, Early Stopping by halting training at the right time, and Batch Normalization by stabilizing the training process and implicitly regularizing the network."
   ]
  },
  {
   "cell_type": "markdown",
   "metadata": {},
   "source": [
    "------------------------------------------------------------------------------------------------------------------------------------------------------------------------------"
   ]
  },
  {
   "cell_type": "markdown",
   "metadata": {},
   "source": [
    "### **Part 3: Applying Regularization**\n",
    " \n",
    "8. **Implement Dropout regularization in a deep learning model using a framework of your choice. Evaluate its impact on model performance and compare it with a model without Dropout.**\n",
    "\n",
    "9. **Discuss the considerations and tradeoffs when choosing the appropriate regularization technique for a given deep learning task.**"
   ]
  },
  {
   "cell_type": "markdown",
   "metadata": {},
   "source": [
    "**Ans :-**"
   ]
  },
  {
   "cell_type": "markdown",
   "metadata": {},
   "source": [
    "8. **Implementing Dropout Regularization in a Deep Learning Model**"
   ]
  },
  {
   "cell_type": "markdown",
   "metadata": {},
   "source": [
    "**Step 1: Importing Necessary Libraries**"
   ]
  },
  {
   "cell_type": "code",
   "execution_count": 1,
   "metadata": {},
   "outputs": [],
   "source": [
    "import tensorflow as tf\n",
    "from tensorflow.keras import layers, models\n",
    "from sklearn.model_selection import train_test_split\n",
    "from sklearn.datasets import load_digits\n",
    "from sklearn.preprocessing import StandardScaler\n",
    "import numpy as np\n",
    "\n",
    "# Load dataset (using Digits dataset for simplicity)\n",
    "digits = load_digits()\n",
    "X = digits.images\n",
    "y = digits.target\n",
    "\n",
    "# Preprocess the data: Flatten images and normalize features\n",
    "X = X.reshape(X.shape[0], -1)  # Flatten images\n",
    "scaler = StandardScaler()\n",
    "X = scaler.fit_transform(X)\n",
    "\n",
    "# Split data into train and test sets\n",
    "X_train, X_test, y_train, y_test = train_test_split(X, y, test_size=0.2, random_state=42)\n",
    "\n",
    "# Convert labels to one-hot encoding\n",
    "y_train = tf.keras.utils.to_categorical(y_train, num_classes=10)\n",
    "y_test = tf.keras.utils.to_categorical(y_test, num_classes=10)"
   ]
  },
  {
   "cell_type": "markdown",
   "metadata": {},
   "source": [
    "**Step 2: Build the Model Without Dropout**"
   ]
  },
  {
   "cell_type": "code",
   "execution_count": 2,
   "metadata": {},
   "outputs": [
    {
     "name": "stdout",
     "output_type": "stream",
     "text": [
      "Epoch 1/20\n"
     ]
    },
    {
     "name": "stderr",
     "output_type": "stream",
     "text": [
      "c:\\Users\\HP\\AppData\\Local\\Programs\\Python\\Python312\\Lib\\site-packages\\keras\\src\\layers\\core\\dense.py:87: UserWarning: Do not pass an `input_shape`/`input_dim` argument to a layer. When using Sequential models, prefer using an `Input(shape)` object as the first layer in the model instead.\n",
      "  super().__init__(activity_regularizer=activity_regularizer, **kwargs)\n"
     ]
    },
    {
     "name": "stdout",
     "output_type": "stream",
     "text": [
      "\u001b[1m45/45\u001b[0m \u001b[32m━━━━━━━━━━━━━━━━━━━━\u001b[0m\u001b[37m\u001b[0m \u001b[1m1s\u001b[0m 6ms/step - accuracy: 0.4398 - loss: 1.8090 - val_accuracy: 0.8861 - val_loss: 0.6353\n",
      "Epoch 2/20\n",
      "\u001b[1m45/45\u001b[0m \u001b[32m━━━━━━━━━━━━━━━━━━━━\u001b[0m\u001b[37m\u001b[0m \u001b[1m0s\u001b[0m 3ms/step - accuracy: 0.9056 - loss: 0.4811 - val_accuracy: 0.9361 - val_loss: 0.2555\n",
      "Epoch 3/20\n",
      "\u001b[1m45/45\u001b[0m \u001b[32m━━━━━━━━━━━━━━━━━━━━\u001b[0m\u001b[37m\u001b[0m \u001b[1m0s\u001b[0m 3ms/step - accuracy: 0.9594 - loss: 0.1952 - val_accuracy: 0.9639 - val_loss: 0.1640\n",
      "Epoch 4/20\n",
      "\u001b[1m45/45\u001b[0m \u001b[32m━━━━━━━━━━━━━━━━━━━━\u001b[0m\u001b[37m\u001b[0m \u001b[1m0s\u001b[0m 4ms/step - accuracy: 0.9741 - loss: 0.1195 - val_accuracy: 0.9722 - val_loss: 0.1280\n",
      "Epoch 5/20\n",
      "\u001b[1m45/45\u001b[0m \u001b[32m━━━━━━━━━━━━━━━━━━━━\u001b[0m\u001b[37m\u001b[0m \u001b[1m0s\u001b[0m 3ms/step - accuracy: 0.9876 - loss: 0.0749 - val_accuracy: 0.9667 - val_loss: 0.1117\n",
      "Epoch 6/20\n",
      "\u001b[1m45/45\u001b[0m \u001b[32m━━━━━━━━━━━━━━━━━━━━\u001b[0m\u001b[37m\u001b[0m \u001b[1m0s\u001b[0m 3ms/step - accuracy: 0.9937 - loss: 0.0573 - val_accuracy: 0.9722 - val_loss: 0.0994\n",
      "Epoch 7/20\n",
      "\u001b[1m45/45\u001b[0m \u001b[32m━━━━━━━━━━━━━━━━━━━━\u001b[0m\u001b[37m\u001b[0m \u001b[1m0s\u001b[0m 3ms/step - accuracy: 0.9964 - loss: 0.0393 - val_accuracy: 0.9722 - val_loss: 0.0963\n",
      "Epoch 8/20\n",
      "\u001b[1m45/45\u001b[0m \u001b[32m━━━━━━━━━━━━━━━━━━━━\u001b[0m\u001b[37m\u001b[0m \u001b[1m0s\u001b[0m 3ms/step - accuracy: 0.9990 - loss: 0.0269 - val_accuracy: 0.9750 - val_loss: 0.0891\n",
      "Epoch 9/20\n",
      "\u001b[1m45/45\u001b[0m \u001b[32m━━━━━━━━━━━━━━━━━━━━\u001b[0m\u001b[37m\u001b[0m \u001b[1m0s\u001b[0m 3ms/step - accuracy: 0.9982 - loss: 0.0213 - val_accuracy: 0.9750 - val_loss: 0.0855\n",
      "Epoch 10/20\n",
      "\u001b[1m45/45\u001b[0m \u001b[32m━━━━━━━━━━━━━━━━━━━━\u001b[0m\u001b[37m\u001b[0m \u001b[1m0s\u001b[0m 3ms/step - accuracy: 0.9994 - loss: 0.0193 - val_accuracy: 0.9750 - val_loss: 0.0835\n",
      "Epoch 11/20\n",
      "\u001b[1m45/45\u001b[0m \u001b[32m━━━━━━━━━━━━━━━━━━━━\u001b[0m\u001b[37m\u001b[0m \u001b[1m0s\u001b[0m 3ms/step - accuracy: 1.0000 - loss: 0.0148 - val_accuracy: 0.9750 - val_loss: 0.0810\n",
      "Epoch 12/20\n",
      "\u001b[1m45/45\u001b[0m \u001b[32m━━━━━━━━━━━━━━━━━━━━\u001b[0m\u001b[37m\u001b[0m \u001b[1m0s\u001b[0m 3ms/step - accuracy: 1.0000 - loss: 0.0125 - val_accuracy: 0.9750 - val_loss: 0.0807\n",
      "Epoch 13/20\n",
      "\u001b[1m45/45\u001b[0m \u001b[32m━━━━━━━━━━━━━━━━━━━━\u001b[0m\u001b[37m\u001b[0m \u001b[1m0s\u001b[0m 3ms/step - accuracy: 1.0000 - loss: 0.0087 - val_accuracy: 0.9750 - val_loss: 0.0814\n",
      "Epoch 14/20\n",
      "\u001b[1m45/45\u001b[0m \u001b[32m━━━━━━━━━━━━━━━━━━━━\u001b[0m\u001b[37m\u001b[0m \u001b[1m0s\u001b[0m 3ms/step - accuracy: 1.0000 - loss: 0.0080 - val_accuracy: 0.9750 - val_loss: 0.0789\n",
      "Epoch 15/20\n",
      "\u001b[1m45/45\u001b[0m \u001b[32m━━━━━━━━━━━━━━━━━━━━\u001b[0m\u001b[37m\u001b[0m \u001b[1m0s\u001b[0m 3ms/step - accuracy: 1.0000 - loss: 0.0068 - val_accuracy: 0.9750 - val_loss: 0.0770\n",
      "Epoch 16/20\n",
      "\u001b[1m45/45\u001b[0m \u001b[32m━━━━━━━━━━━━━━━━━━━━\u001b[0m\u001b[37m\u001b[0m \u001b[1m0s\u001b[0m 3ms/step - accuracy: 1.0000 - loss: 0.0056 - val_accuracy: 0.9750 - val_loss: 0.0774\n",
      "Epoch 17/20\n",
      "\u001b[1m45/45\u001b[0m \u001b[32m━━━━━━━━━━━━━━━━━━━━\u001b[0m\u001b[37m\u001b[0m \u001b[1m0s\u001b[0m 3ms/step - accuracy: 1.0000 - loss: 0.0045 - val_accuracy: 0.9750 - val_loss: 0.0767\n",
      "Epoch 18/20\n",
      "\u001b[1m45/45\u001b[0m \u001b[32m━━━━━━━━━━━━━━━━━━━━\u001b[0m\u001b[37m\u001b[0m \u001b[1m0s\u001b[0m 3ms/step - accuracy: 1.0000 - loss: 0.0039 - val_accuracy: 0.9750 - val_loss: 0.0759\n",
      "Epoch 19/20\n",
      "\u001b[1m45/45\u001b[0m \u001b[32m━━━━━━━━━━━━━━━━━━━━\u001b[0m\u001b[37m\u001b[0m \u001b[1m0s\u001b[0m 3ms/step - accuracy: 1.0000 - loss: 0.0035 - val_accuracy: 0.9778 - val_loss: 0.0768\n",
      "Epoch 20/20\n",
      "\u001b[1m45/45\u001b[0m \u001b[32m━━━━━━━━━━━━━━━━━━━━\u001b[0m\u001b[37m\u001b[0m \u001b[1m0s\u001b[0m 4ms/step - accuracy: 1.0000 - loss: 0.0032 - val_accuracy: 0.9778 - val_loss: 0.0769\n"
     ]
    }
   ],
   "source": [
    "def build_model_without_dropout():\n",
    "    model = models.Sequential([\n",
    "        layers.Dense(128, activation='relu', input_shape=(64,)),\n",
    "        layers.Dense(64, activation='relu'),\n",
    "        layers.Dense(10, activation='softmax')  # Output layer with 10 classes\n",
    "    ])\n",
    "    model.compile(optimizer='adam', loss='categorical_crossentropy', metrics=['accuracy'])\n",
    "    return model\n",
    "\n",
    "# Train the model without Dropout\n",
    "model_no_dropout = build_model_without_dropout()\n",
    "history_no_dropout = model_no_dropout.fit(X_train, y_train, epochs=20, batch_size=32, validation_data=(X_test, y_test))"
   ]
  },
  {
   "cell_type": "markdown",
   "metadata": {},
   "source": [
    "**Step 3: Build the Model with Dropout**"
   ]
  },
  {
   "cell_type": "code",
   "execution_count": 3,
   "metadata": {},
   "outputs": [
    {
     "name": "stdout",
     "output_type": "stream",
     "text": [
      "Epoch 1/20\n",
      "\u001b[1m45/45\u001b[0m \u001b[32m━━━━━━━━━━━━━━━━━━━━\u001b[0m\u001b[37m\u001b[0m \u001b[1m1s\u001b[0m 6ms/step - accuracy: 0.1565 - loss: 2.5397 - val_accuracy: 0.7778 - val_loss: 1.5014\n",
      "Epoch 2/20\n",
      "\u001b[1m45/45\u001b[0m \u001b[32m━━━━━━━━━━━━━━━━━━━━\u001b[0m\u001b[37m\u001b[0m \u001b[1m0s\u001b[0m 3ms/step - accuracy: 0.4470 - loss: 1.6370 - val_accuracy: 0.8583 - val_loss: 0.9305\n",
      "Epoch 3/20\n",
      "\u001b[1m45/45\u001b[0m \u001b[32m━━━━━━━━━━━━━━━━━━━━\u001b[0m\u001b[37m\u001b[0m \u001b[1m0s\u001b[0m 3ms/step - accuracy: 0.6017 - loss: 1.2110 - val_accuracy: 0.9111 - val_loss: 0.5525\n",
      "Epoch 4/20\n",
      "\u001b[1m45/45\u001b[0m \u001b[32m━━━━━━━━━━━━━━━━━━━━\u001b[0m\u001b[37m\u001b[0m \u001b[1m0s\u001b[0m 2ms/step - accuracy: 0.7061 - loss: 0.9317 - val_accuracy: 0.9361 - val_loss: 0.3561\n",
      "Epoch 5/20\n",
      "\u001b[1m45/45\u001b[0m \u001b[32m━━━━━━━━━━━━━━━━━━━━\u001b[0m\u001b[37m\u001b[0m \u001b[1m0s\u001b[0m 3ms/step - accuracy: 0.7742 - loss: 0.7263 - val_accuracy: 0.9500 - val_loss: 0.2574\n",
      "Epoch 6/20\n",
      "\u001b[1m45/45\u001b[0m \u001b[32m━━━━━━━━━━━━━━━━━━━━\u001b[0m\u001b[37m\u001b[0m \u001b[1m0s\u001b[0m 3ms/step - accuracy: 0.8029 - loss: 0.6112 - val_accuracy: 0.9583 - val_loss: 0.2071\n",
      "Epoch 7/20\n",
      "\u001b[1m45/45\u001b[0m \u001b[32m━━━━━━━━━━━━━━━━━━━━\u001b[0m\u001b[37m\u001b[0m \u001b[1m0s\u001b[0m 2ms/step - accuracy: 0.8416 - loss: 0.5181 - val_accuracy: 0.9583 - val_loss: 0.1762\n",
      "Epoch 8/20\n",
      "\u001b[1m45/45\u001b[0m \u001b[32m━━━━━━━━━━━━━━━━━━━━\u001b[0m\u001b[37m\u001b[0m \u001b[1m0s\u001b[0m 4ms/step - accuracy: 0.8465 - loss: 0.4855 - val_accuracy: 0.9639 - val_loss: 0.1516\n",
      "Epoch 9/20\n",
      "\u001b[1m45/45\u001b[0m \u001b[32m━━━━━━━━━━━━━━━━━━━━\u001b[0m\u001b[37m\u001b[0m \u001b[1m0s\u001b[0m 3ms/step - accuracy: 0.8741 - loss: 0.4088 - val_accuracy: 0.9639 - val_loss: 0.1389\n",
      "Epoch 10/20\n",
      "\u001b[1m45/45\u001b[0m \u001b[32m━━━━━━━━━━━━━━━━━━━━\u001b[0m\u001b[37m\u001b[0m \u001b[1m0s\u001b[0m 3ms/step - accuracy: 0.8835 - loss: 0.3672 - val_accuracy: 0.9639 - val_loss: 0.1314\n",
      "Epoch 11/20\n",
      "\u001b[1m45/45\u001b[0m \u001b[32m━━━━━━━━━━━━━━━━━━━━\u001b[0m\u001b[37m\u001b[0m \u001b[1m0s\u001b[0m 3ms/step - accuracy: 0.8788 - loss: 0.3586 - val_accuracy: 0.9639 - val_loss: 0.1186\n",
      "Epoch 12/20\n",
      "\u001b[1m45/45\u001b[0m \u001b[32m━━━━━━━━━━━━━━━━━━━━\u001b[0m\u001b[37m\u001b[0m \u001b[1m0s\u001b[0m 3ms/step - accuracy: 0.9038 - loss: 0.3068 - val_accuracy: 0.9639 - val_loss: 0.1123\n",
      "Epoch 13/20\n",
      "\u001b[1m45/45\u001b[0m \u001b[32m━━━━━━━━━━━━━━━━━━━━\u001b[0m\u001b[37m\u001b[0m \u001b[1m0s\u001b[0m 3ms/step - accuracy: 0.9012 - loss: 0.3218 - val_accuracy: 0.9694 - val_loss: 0.1043\n",
      "Epoch 14/20\n",
      "\u001b[1m45/45\u001b[0m \u001b[32m━━━━━━━━━━━━━━━━━━━━\u001b[0m\u001b[37m\u001b[0m \u001b[1m0s\u001b[0m 3ms/step - accuracy: 0.9153 - loss: 0.2886 - val_accuracy: 0.9667 - val_loss: 0.1040\n",
      "Epoch 15/20\n",
      "\u001b[1m45/45\u001b[0m \u001b[32m━━━━━━━━━━━━━━━━━━━━\u001b[0m\u001b[37m\u001b[0m \u001b[1m0s\u001b[0m 3ms/step - accuracy: 0.9042 - loss: 0.3015 - val_accuracy: 0.9694 - val_loss: 0.0993\n",
      "Epoch 16/20\n",
      "\u001b[1m45/45\u001b[0m \u001b[32m━━━━━━━━━━━━━━━━━━━━\u001b[0m\u001b[37m\u001b[0m \u001b[1m0s\u001b[0m 3ms/step - accuracy: 0.9358 - loss: 0.2196 - val_accuracy: 0.9722 - val_loss: 0.0971\n",
      "Epoch 17/20\n",
      "\u001b[1m45/45\u001b[0m \u001b[32m━━━━━━━━━━━━━━━━━━━━\u001b[0m\u001b[37m\u001b[0m \u001b[1m0s\u001b[0m 3ms/step - accuracy: 0.9174 - loss: 0.2339 - val_accuracy: 0.9778 - val_loss: 0.0931\n",
      "Epoch 18/20\n",
      "\u001b[1m45/45\u001b[0m \u001b[32m━━━━━━━━━━━━━━━━━━━━\u001b[0m\u001b[37m\u001b[0m \u001b[1m0s\u001b[0m 3ms/step - accuracy: 0.9267 - loss: 0.2240 - val_accuracy: 0.9694 - val_loss: 0.0891\n",
      "Epoch 19/20\n",
      "\u001b[1m45/45\u001b[0m \u001b[32m━━━━━━━━━━━━━━━━━━━━\u001b[0m\u001b[37m\u001b[0m \u001b[1m0s\u001b[0m 3ms/step - accuracy: 0.9357 - loss: 0.2298 - val_accuracy: 0.9806 - val_loss: 0.0860\n",
      "Epoch 20/20\n",
      "\u001b[1m45/45\u001b[0m \u001b[32m━━━━━━━━━━━━━━━━━━━━\u001b[0m\u001b[37m\u001b[0m \u001b[1m0s\u001b[0m 3ms/step - accuracy: 0.9343 - loss: 0.2118 - val_accuracy: 0.9806 - val_loss: 0.0847\n"
     ]
    }
   ],
   "source": [
    "def build_model_with_dropout():\n",
    "    model = models.Sequential([\n",
    "        layers.Dense(128, activation='relu', input_shape=(64,)),\n",
    "        layers.Dropout(0.5),  # Dropout layer with a 50% drop rate\n",
    "        layers.Dense(64, activation='relu'),\n",
    "        layers.Dropout(0.5),  # Dropout again after the second hidden layer\n",
    "        layers.Dense(10, activation='softmax')  # Output layer with 10 classes\n",
    "    ])\n",
    "    model.compile(optimizer='adam', loss='categorical_crossentropy', metrics=['accuracy'])\n",
    "    return model\n",
    "\n",
    "# Train the model with Dropout\n",
    "model_with_dropout = build_model_with_dropout()\n",
    "history_with_dropout = model_with_dropout.fit(X_train, y_train, epochs=20, batch_size=32, validation_data=(X_test, y_test))"
   ]
  },
  {
   "cell_type": "markdown",
   "metadata": {},
   "source": [
    "**Step 4: Compare Performance of Both Models**"
   ]
  },
  {
   "cell_type": "code",
   "execution_count": 4,
   "metadata": {},
   "outputs": [
    {
     "data": {
      "image/png": "[encoded data removed]",
      "text/plain": [
       "<Figure size 640x480 with 1 Axes>"
      ]
     },
     "metadata": {},
     "output_type": "display_data"
    },
    {
     "name": "stdout",
     "output_type": "stream",
     "text": [
      "\u001b[1m12/12\u001b[0m \u001b[32m━━━━━━━━━━━━━━━━━━━━\u001b[0m\u001b[37m\u001b[0m \u001b[1m0s\u001b[0m 927us/step - accuracy: 0.9829 - loss: 0.0657\n",
      "\u001b[1m12/12\u001b[0m \u001b[32m━━━━━━━━━━━━━━━━━━━━\u001b[0m\u001b[37m\u001b[0m \u001b[1m0s\u001b[0m 3ms/step - accuracy: 0.9864 - loss: 0.0647 \n",
      "Test Accuracy Without Dropout: 0.9778\n",
      "Test Accuracy With Dropout: 0.9806\n"
     ]
    }
   ],
   "source": [
    "import matplotlib.pyplot as plt\n",
    "\n",
    "# Plot the training and validation accuracy for both models\n",
    "plt.plot(history_no_dropout.history['accuracy'], label='Train Accuracy (No Dropout)')\n",
    "plt.plot(history_no_dropout.history['val_accuracy'], label='Test Accuracy (No Dropout)')\n",
    "plt.plot(history_with_dropout.history['accuracy'], label='Train Accuracy (With Dropout)')\n",
    "plt.plot(history_with_dropout.history['val_accuracy'], label='Test Accuracy (With Dropout)')\n",
    "plt.title('Model Accuracy Comparison')\n",
    "plt.xlabel('Epochs')\n",
    "plt.ylabel('Accuracy')\n",
    "plt.legend()\n",
    "plt.show()\n",
    "\n",
    "# Evaluate the final performance of both models\n",
    "test_loss_no_dropout, test_acc_no_dropout = model_no_dropout.evaluate(X_test, y_test)\n",
    "test_loss_with_dropout, test_acc_with_dropout = model_with_dropout.evaluate(X_test, y_test)\n",
    "\n",
    "print(f\"Test Accuracy Without Dropout: {test_acc_no_dropout:.4f}\")\n",
    "print(f\"Test Accuracy With Dropout: {test_acc_with_dropout:.4f}\")"
   ]
  },
  {
   "cell_type": "markdown",
   "metadata": {},
   "source": [
    "9. Choosing the right regularization technique for a deep learning task depends on several factors:\n",
    "\n",
    "   1. **Task Complexity and Model Size**\n",
    "      \n",
    "      - **Dropout** is commonly used in large, complex models such as deep neural networks. It is particularly effective in tasks with many layers or large datasets, where the risk of overfitting is high.\n",
    "      \n",
    "      - **L1/L2 Regularization** is often used in simpler models like linear regression or smaller neural networks to control the size of the weights.\n",
    "      \n",
    "      - **Batch Normalization** is often used in deeper models to stabilize and speed up training, and it may reduce the need for explicit regularization like Dropout or L2.\n",
    "\n",
    "   2. **Data Size**\n",
    "      \n",
    "      - **Small Datasets -** For small datasets, overfitting is more likely. Techniques like L2 regularization or Dropout can help prevent the model from memorizing the limited data.\n",
    "      \n",
    "      - **Large Datasets -** With larger datasets, regularization may still be necessary but to a lesser extent. Here, batch normalization may be more important to stabilize the training.\n",
    "\n",
    "   3. **Model Training Time**\n",
    "      \n",
    "      - **Dropout -** Introduces noise during training and can slow down convergence since fewer neurons are active during each iteration. However, it helps prevent overfitting.\n",
    "      \n",
    "      - **Early Stopping -** Can speed up the process by halting training when validation performance deteriorates, saving time and computation.\n",
    "\n",
    "   4. **Sparsity and Interpretability**\n",
    "      \n",
    "      - **L1 Regularization (Lasso) -** Encourages sparsity in the model by pushing some weights to zero. This can be beneficial if you need feature selection or interpretability.\n",
    "      \n",
    "      - **L2 Regularization (Ridge) -** Ensures that all features contribute to the model but keeps weights small to prevent any one feature from dominating the predictions.\n",
    "\n",
    "   5. **Overfitting vs. Underfitting**\n",
    "   \n",
    "      - If the model is **overfitting**, you need stronger regularization techniques like Dropout, L2 regularization, or early stopping.\n",
    "   \n",
    "      - If the model is **underfitting**, reducing the regularization strength or choosing lighter regularization methods may help the model learn more complex patterns.\n",
    "\n",
    "   6. **Computation Resources**\n",
    "   \n",
    "      - **Batch Normalization -** Adds additional computation because of normalization and scaling during training. However, it can speed up training by allowing for higher learning rates.\n",
    "   \n",
    "      - **Dropout -** Requires keeping track of active and inactive neurons during training but doesn't add extra layers to the model.\n",
    "\n",
    "   **Summary of Tradeoffs :**\n",
    "   \n",
    "   - **Dropout -** Best for large networks; may slow down training but prevents overfitting.\n",
    "   \n",
    "   - **L1/L2 Regularization -** Simple to implement, helps in both small and large datasets; L1 encourages sparsity, while L2 spreads out the weight impact.\n",
    "   \n",
    "   - **Batch Normalization -** Stabilizes training and acts as implicit regularization, beneficial for deep networks.\n",
    "   \n",
    "   - **Early Stopping -** Resource-efficient and simple but may need careful tuning of the patience parameter."
   ]
  },
  {
   "cell_type": "markdown",
   "metadata": {},
   "source": []
  }
 ],
 "metadata": {
  "kernelspec": {
   "display_name": "Python 3",
   "language": "python",
   "name": "python3"
  },
  "language_info": {
   "codemirror_mode": {
    "name": "ipython",
    "version": 3
   },
   "file_extension": ".py",
   "mimetype": "text/x-python",
   "name": "python",
   "nbconvert_exporter": "python",
   "pygments_lexer": "ipython3",
   "version": "3.12.2"
  }
 },
 "nbformat": 4,
 "nbformat_minor": 2
}
